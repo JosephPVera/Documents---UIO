{
 "cells": [
  {
   "cell_type": "markdown",
   "id": "3f0b66d2",
   "metadata": {
    "editable": true
   },
   "source": [
    "<!-- HTML file automatically generated from DocOnce source (https://github.com/doconce/doconce/)\n",
    "doconce format html Project1.do.txt  -->\n",
    "<!-- dom:TITLE: Quantum Computing and Quantum Machine Learning, Project 1 -->"
   ]
  },
  {
   "cell_type": "markdown",
   "id": "853d4dcd",
   "metadata": {
    "editable": true
   },
   "source": [
    "## Part c)\n",
    "\n",
    "Implement now the variational quantum eigensolver (VQE) for the above\n",
    "Hamiltonian and set up the circuit(s) which is(are) needed in order to find\n",
    "the eigenvalues of this system. Discuss the results and compare these\n",
    "with those from part b). Feel free to use either **Qiskit** or your own\n",
    "code (based on the setup from part a)) or both approaches. Discuss\n",
    "your results."
   ]
  },
  {
   "cell_type": "markdown",
   "id": "c3928056-0c1b-446c-ae9d-13f8782abe59",
   "metadata": {},
   "source": [
    "<span style=\"color:red\">Solution:</span>"
   ]
  },
  {
   "cell_type": "markdown",
   "id": "1e216afc-55e7-443e-ad76-ccbe58c4173a",
   "metadata": {},
   "source": [
    "The variational quantum eigensolver (VQE) is a hybrid algorithm that variationally calculate the ground state energy of a hamiltonian. Hybrid because use classical optimization techniques. \\\n",
    "We can use Qiskit for plot the quantum circuit with the gates. For this case we need to select some ansatz (Parameterized Quantum Circuit), which get information global and give us a good expectation value of the hamiltonian.\n",
    "The idea is to go through all the points of the Bloch sphere, optimizate values and minimize the expectation value. \n",
    "\n",
    "For this case a good ansatz must include rotationals gates: "
   ]
  },
  {
   "cell_type": "markdown",
   "id": "c5c27840-1f82-4a44-984f-ea5b706fc5ef",
   "metadata": {},
   "source": [
    "$$|\\Psi \\rangle = R_{y}(\\phi)R_{x}(\\theta)|0\\rangle $$"
   ]
  },
  {
   "cell_type": "markdown",
   "id": "a9618740-34f8-4f44-81dc-2ef51edcbb6d",
   "metadata": {},
   "source": [
    "To work with VQE, we must to modify the Hamiltonian. Modify or rewrite via Pauli matrices and identity matrix."
   ]
  },
  {
   "cell_type": "markdown",
   "id": "bd9df27a-d4a6-4eeb-bba9-a04053458903",
   "metadata": {},
   "source": [
    "Remind the expressions for the rotational gates"
   ]
  },
  {
   "cell_type": "markdown",
   "id": "ae6b33be-19eb-4f7a-b721-6eba4274ad9c",
   "metadata": {},
   "source": [
    "$$R_{y}(\\phi) = \\cos(\\frac{\\phi}{2})I - i\\sin(\\frac{\\phi}{2})\\sigma_{y} =\n",
    "\\begin{bmatrix}\n",
    "\\cos(\\frac{\\phi}{2}) & -\\sin(\\frac{\\phi}{2}) \\\\\n",
    "\\sin(\\frac{\\phi}{2}) & \\cos(\\frac{\\phi}{2}) \n",
    "\\end{bmatrix}$$"
   ]
  },
  {
   "cell_type": "markdown",
   "id": "36aa27bf-1cdb-42bf-82c3-f732ae7d7962",
   "metadata": {},
   "source": [
    "$$R_{x}(\\theta) =  \\cos(\\frac{\\theta}{2})I - i\\sin(\\frac{\\theta}{2})\\sigma_{x} =\n",
    "\\begin{bmatrix}\n",
    "\\cos(\\frac{\\theta}{2}) & -i\\sin(\\frac{\\theta}{2}) \\\\\n",
    "-i\\sin(\\frac{\\theta}{2}) & \\cos(\\frac{\\theta}{2}) \n",
    "\\end{bmatrix}$$"
   ]
  },
  {
   "cell_type": "markdown",
   "id": "4ac28eb0-5ac9-4d11-b1f1-e08219c8a7c5",
   "metadata": {},
   "source": [
    "Energy, using the ansatz"
   ]
  },
  {
   "cell_type": "markdown",
   "id": "a6613719-27b1-407d-8089-cc8a8827e9ee",
   "metadata": {},
   "source": [
    "$$E = \\langle \\Psi |H|\\Psi \\rangle = \\langle 0|R_{x}(\\theta) R_{y}(\\phi) H R_{y}(\\phi)R_{x}(\\theta)|0\\rangle$$"
   ]
  },
  {
   "cell_type": "code",
   "execution_count": 1,
   "id": "b2bf26c5-4440-4baa-b601-fab6894e313a",
   "metadata": {},
   "outputs": [
    {
     "name": "stdout",
     "output_type": "stream",
     "text": [
      "Quantum Circuit:\n"
     ]
    },
    {
     "data": {
      "image/png": "[encoded data removed]",
      "text/plain": [
       "<Figure size 269.064x117.056 with 1 Axes>"
      ]
     },
     "metadata": {},
     "output_type": "display_data"
    },
    {
     "name": "stdout",
     "output_type": "stream",
     "text": [
      "Energy: 0.980196098885479\n",
      "--------------------------------------------------------------------------------------------------------------\n",
      "--------------------------------------------------------------------------------------------------------------\n",
      "Optimal parameters θ[0,1]: [4.82453751e-05 3.33901682e+00]\n"
     ]
    }
   ],
   "source": [
    "from qiskit.quantum_info import SparsePauliOp\n",
    "from qiskit_algorithms.optimizers import COBYLA\n",
    "from qiskit_algorithms.minimum_eigensolvers import VQE\n",
    "from qiskit.circuit.library import TwoLocal\n",
    "from qiskit.primitives import Sampler, Estimator \n",
    "\n",
    "ansatz = TwoLocal(1, ['rx','ry'], 'cx','linear', reps=0)       # ansatz\n",
    "op = SparsePauliOp.from_list([('Z',1), ('I',2), ('X',0.2)])    # Hamiltonian in Pauli matrices  \n",
    "\n",
    "estimator = Estimator() \n",
    "optimizer = COBYLA() \n",
    " \n",
    "vqe = VQE(estimator, ansatz, optimizer) \n",
    "result = vqe.compute_minimum_eigenvalue(operator=op) \n",
    "eigenvalue = result.eigenvalue\n",
    "\n",
    "print(\"Quantum Circuit:\")\n",
    "display(ansatz.decompose().draw('mpl'))\n",
    "print(\"Energy:\",eigenvalue)\n",
    "print(\"--------------------------------------------------------------------------------------------------------------\")\n",
    "print(\"--------------------------------------------------------------------------------------------------------------\")\n",
    "print(\"Optimal parameters θ[0,1]:\",result.optimal_point)"
   ]
  },
  {
   "cell_type": "markdown",
   "id": "84f76ae4-483a-4868-9d90-37edc149fa74",
   "metadata": {},
   "source": [
    "Now We can set up the circuit to perform measurements using the optimal parameters $\\theta [0]$ and $\\theta [1]$"
   ]
  },
  {
   "cell_type": "code",
   "execution_count": 2,
   "id": "8d702d32-9026-426e-9c41-69c87c826de0",
   "metadata": {},
   "outputs": [
    {
     "data": {
      "image/png": "[encoded data removed]",
      "text/plain": [
       "<Figure size 580.387x200.667 with 1 Axes>"
      ]
     },
     "execution_count": 2,
     "metadata": {},
     "output_type": "execute_result"
    }
   ],
   "source": [
    "from qiskit import QuantumCircuit\n",
    "import qiskit_aer\n",
    "from qiskit.visualization import plot_histogram\n",
    "import numpy as np\n",
    "\n",
    "backend = qiskit_aer.Aer.get_backend('qasm_simulator')\n",
    "\n",
    "qc = QuantumCircuit(1)\n",
    "qc.rx(result.optimal_point[0],0)      # Rx gate\n",
    "qc.ry(result.optimal_point[1],0)      # Ry gate\n",
    "    \n",
    "qc.measure_all()\n",
    "qc.draw(output=\"mpl\")"
   ]
  },
  {
   "cell_type": "code",
   "execution_count": 3,
   "id": "e82536c0-f9c5-4f64-826f-cfbda8c1ff78",
   "metadata": {},
   "outputs": [
    {
     "data": {
      "image/png": "[encoded data removed]",
      "text/plain": [
       "<Figure size 700x500 with 1 Axes>"
      ]
     },
     "execution_count": 3,
     "metadata": {},
     "output_type": "execute_result"
    }
   ],
   "source": [
    "job = backend.run(qc, shots=10000)\n",
    "result = job.result()\n",
    "counts = result.get_counts(qc)\n",
    "\n",
    "plot_histogram(counts)"
   ]
  },
  {
   "cell_type": "markdown",
   "id": "f74319e5-1f69-40db-b547-02af79919c9c",
   "metadata": {},
   "source": [
    "<span style=\"color:red\">Comment:</span> This method provides exact information about the ground state energy. If we compare with the **question b)**, the value for the energy is similar when $\\lambda = 1$, only if we compare the real part. Besides the imaginary part can be neglected, because is very small. It is also possible get information about the angles.\n",
    "\n",
    "We also have created other code using qiskit but define the wave function (ansatz) and the explicit calculation for the expectation value. You can check the created code in **[https://github.com/JosephPVera/UIO/blob/main/Quantum%20Computing/Project%201/Report%20codes/%20Project%201%20-%20Report%20codes.ipynb](https://github.com/JosephPVera/UIO/blob/main/Quantum%20Computing/Project%201/Report%20codes/%20Project%201%20-%20Report%20codes.ipynb)**"
   ]
  },
  {
   "cell_type": "code",
   "execution_count": null,
   "id": "f7d0b4bd-65aa-425d-8a98-559711140ddb",
   "metadata": {},
   "outputs": [],
   "source": []
  }
 ],
 "metadata": {
  "kernelspec": {
   "display_name": "Python 3 (ipykernel)",
   "language": "python",
   "name": "python3"
  },
  "language_info": {
   "codemirror_mode": {
    "name": "ipython",
    "version": 3
   },
   "file_extension": ".py",
   "mimetype": "text/x-python",
   "name": "python",
   "nbconvert_exporter": "python",
   "pygments_lexer": "ipython3",
   "version": "3.10.12"
  }
 },
 "nbformat": 4,
 "nbformat_minor": 5
}
