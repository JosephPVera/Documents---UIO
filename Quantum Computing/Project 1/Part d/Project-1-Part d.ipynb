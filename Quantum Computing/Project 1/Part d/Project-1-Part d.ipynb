{
 "cells": [
  {
   "cell_type": "markdown",
   "id": "3f0b66d2",
   "metadata": {
    "editable": true
   },
   "source": [
    "<!-- HTML file automatically generated from DocOnce source (https://github.com/doconce/doconce/)\n",
    "doconce format html Project1.do.txt  -->\n",
    "<!-- dom:TITLE: Quantum Computing and Quantum Machine Learning, Project 1 -->"
   ]
  },
  {
   "cell_type": "markdown",
   "id": "0cbb56c4",
   "metadata": {
    "editable": true
   },
   "source": [
    "## Part d)\n",
    "\n",
    "Extend part c) to a two-qubit system with the following computational\n",
    "basis states and Hamiltonian matrix written out in terms of Pauli spin\n",
    "matrices.\n",
    "\n",
    "This system can be thought of as composed of two subsystems\n",
    "$A$ and $B$. Each subsystem has computational basis states"
   ]
  },
  {
   "cell_type": "markdown",
   "id": "cc56b95f",
   "metadata": {
    "editable": true
   },
   "source": [
    "\\begin{equation}\n",
    "\\vert 0\\rangle_{\\mathrm{A,B}}=\\begin{bmatrix} 1 & 0\\end{bmatrix}^T \\hspace{1cm} \\vert 1\\rangle_{\\mathrm{A,B}}=\\begin{bmatrix} 0 & 1\\end{bmatrix}^T\n",
    "\\end{equation}"
   ]
  },
  {
   "cell_type": "markdown",
   "id": "004ce974",
   "metadata": {
    "editable": true
   },
   "source": [
    "The subsystems could represent single particles or composite many-particle systems of a given symmetry.\n",
    "This leads to the many-body computational basis states"
   ]
  },
  {
   "cell_type": "markdown",
   "id": "40a062fa",
   "metadata": {
    "editable": true
   },
   "source": [
    "\\begin{equation}\n",
    "\\vert 00\\rangle = \\vert 0\\rangle_{\\mathrm{A}}\\otimes \\vert 0\\rangle_{\\mathrm{B}}=\\begin{bmatrix} 1 & 0 & 0 &0\\end{bmatrix}^T\n",
    "\\end{equation}"
   ]
  },
  {
   "cell_type": "markdown",
   "id": "b7d899eb",
   "metadata": {
    "editable": true
   },
   "source": [
    "and"
   ]
  },
  {
   "cell_type": "markdown",
   "id": "ba800bc4",
   "metadata": {
    "editable": true
   },
   "source": [
    "\\begin{equation}\n",
    "\\vert 01\\rangle = \\vert 0\\rangle_{\\mathrm{A}}\\otimes \\vert 1\\rangle_{\\mathrm{B}}=\\begin{bmatrix} 0 & 0 & 1 &0\\end{bmatrix}^T\n",
    "\\end{equation}"
   ]
  },
  {
   "cell_type": "markdown",
   "id": "dee9e68e",
   "metadata": {
    "editable": true
   },
   "source": [
    "and"
   ]
  },
  {
   "cell_type": "markdown",
   "id": "3edb2bbc",
   "metadata": {
    "editable": true
   },
   "source": [
    "\\begin{equation}\n",
    "\\vert 10\\rangle = \\vert 1\\rangle_{\\mathrm{A}}\\otimes \\vert 0\\rangle_{\\mathrm{B}}=\\begin{bmatrix} 0 & 1 & 0 &0\\end{bmatrix}^T\n",
    "\\end{equation}"
   ]
  },
  {
   "cell_type": "markdown",
   "id": "8fa342d4",
   "metadata": {
    "editable": true
   },
   "source": [
    "and finally"
   ]
  },
  {
   "cell_type": "markdown",
   "id": "da754887",
   "metadata": {
    "editable": true
   },
   "source": [
    "\\begin{equation}\n",
    "\\vert 11\\rangle = \\vert 1\\rangle_{\\mathrm{A}}\\otimes \\vert 1\\rangle_{\\mathrm{B}}=\\begin{bmatrix} 0 & 0 & 0 &1\\end{bmatrix}^T\n",
    "\\end{equation}"
   ]
  },
  {
   "cell_type": "markdown",
   "id": "eaae0196",
   "metadata": {
    "editable": true
   },
   "source": [
    "These computational basis states define also the eigenstates of the non-interacting  Hamiltonian"
   ]
  },
  {
   "cell_type": "markdown",
   "id": "032b6635",
   "metadata": {
    "editable": true
   },
   "source": [
    "\\begin{equation}\n",
    "H_0\\vert 00 \\rangle = \\epsilon_{00}\\vert 00 \\rangle\n",
    "\\end{equation}"
   ]
  },
  {
   "cell_type": "markdown",
   "id": "896e553b",
   "metadata": {
    "editable": true
   },
   "source": [
    "\\begin{equation}\n",
    "H_0\\vert 10 \\rangle = \\epsilon_{10}\\vert 10 \\rangle\n",
    "\\end{equation}"
   ]
  },
  {
   "cell_type": "markdown",
   "id": "82f09610",
   "metadata": {
    "editable": true
   },
   "source": [
    "\\begin{equation}\n",
    "H_0\\vert 01 \\rangle = \\epsilon_{01}\\vert 01 \\rangle\n",
    "\\end{equation}"
   ]
  },
  {
   "cell_type": "markdown",
   "id": "112b692f",
   "metadata": {
    "editable": true
   },
   "source": [
    "and"
   ]
  },
  {
   "cell_type": "markdown",
   "id": "4cc419e4",
   "metadata": {
    "editable": true
   },
   "source": [
    "\\begin{equation}\n",
    "H_0\\vert 11 \\rangle = \\epsilon_{11}\\vert 11 \\rangle\n",
    "\\end{equation}"
   ]
  },
  {
   "cell_type": "markdown",
   "id": "3ceece17",
   "metadata": {
    "editable": true
   },
   "source": [
    "The interacting part of the Hamiltonian $H_{\\mathrm{I}}$ is given by the tensor product of two $\\sigma_x$ and $\\sigma_z$  matrices, respectively, that is"
   ]
  },
  {
   "cell_type": "markdown",
   "id": "df78a242",
   "metadata": {
    "editable": true
   },
   "source": [
    "\\begin{equation}\n",
    "H_{\\mathrm{I}}=H_x\\sigma_x\\otimes\\sigma_x+H_z\\sigma_z\\otimes\\sigma_z\n",
    "\\end{equation}"
   ]
  },
  {
   "cell_type": "markdown",
   "id": "a46fb20d",
   "metadata": {
    "editable": true
   },
   "source": [
    "where $H_x$ and $H_z$ are interaction strength parameters. Our final Hamiltonian matrix is given by"
   ]
  },
  {
   "cell_type": "markdown",
   "id": "91e7e3cd",
   "metadata": {
    "editable": true
   },
   "source": [
    "\\begin{equation}\n",
    "\\boldsymbol{H}=\\begin{bmatrix} \\epsilon_{00}+H_z & 0 & 0 & H_x \\\\\n",
    "                       0  & \\epsilon_{10}-H_z & H_x & 0 \\\\\n",
    "\t\t       0 & H_x & \\epsilon_{01}-H_z & 0 \\\\\n",
    "\t\t       H_x & 0 & 0 & \\epsilon_{11} +H_z \\end{bmatrix}\n",
    "\\end{equation}"
   ]
  },
  {
   "cell_type": "markdown",
   "id": "7756474b",
   "metadata": {
    "editable": true
   },
   "source": [
    "The four eigenstates of the above Hamiltonian matrix can in turn be used to\n",
    "define density matrices. As an example, the density matrix of the\n",
    "first eigenstate (lowest energy $E_0$) $\\Psi_0$ is"
   ]
  },
  {
   "cell_type": "markdown",
   "id": "d76af9ff",
   "metadata": {
    "editable": true
   },
   "source": [
    "\\begin{equation}\n",
    "\\rho_0=\\left(\\alpha_{00}\\vert 00 \\rangle\\langle 00\\vert+\\alpha_{10}\\vert 10 \\rangle\\langle 10\\vert+\\alpha_{01}\\vert 01 \\rangle\\langle 01\\vert+\\alpha_{11}\\vert 11 \\rangle\\langle 11\\vert\\right)\n",
    "\\end{equation}"
   ]
  },
  {
   "cell_type": "markdown",
   "id": "3f0d318e",
   "metadata": {
    "editable": true
   },
   "source": [
    "where the coefficients $\\alpha_{ij}$ are the eigenvector coefficients\n",
    "resulting from the solution of the above eigenvalue problem.\n",
    "\n",
    "We can\n",
    "then in turn define the density matrix for the subsets $A$ or $B$ as"
   ]
  },
  {
   "cell_type": "markdown",
   "id": "85c32031",
   "metadata": {
    "editable": true
   },
   "source": [
    "\\begin{equation}\n",
    "\\rho_A=\\mathrm{Tr}_B(\\rho_{0})=\\langle 0 \\vert \\rho_{0} \\vert 0\\rangle_{B}+\\langle 1 \\vert \\rho_{0} \\vert 1\\rangle_{B}\n",
    "\\end{equation}"
   ]
  },
  {
   "cell_type": "markdown",
   "id": "93c3c1bb",
   "metadata": {
    "editable": true
   },
   "source": [
    "or"
   ]
  },
  {
   "cell_type": "markdown",
   "id": "2f1aa808",
   "metadata": {
    "editable": true
   },
   "source": [
    "\\begin{equation}\n",
    "\\rho_B=\\mathrm{Tr}_A(\\rho_0)=\\langle 0 \\vert \\rho_{0} \\vert 0\\rangle_{A}+\\langle 1 \\vert \\rho_{0} \\vert 1\\rangle_{A}\n",
    "\\end{equation}"
   ]
  },
  {
   "cell_type": "markdown",
   "id": "7221915d",
   "metadata": {
    "editable": true
   },
   "source": [
    "The density matrices for these subsets can be used to compute the\n",
    "so-called von Neumann entropy, which is one of the possible measures\n",
    "of entanglement. A pure state has entropy equal zero while entangled\n",
    "state have an entropy larger than zero. The von-Neumann entropy is\n",
    "defined as"
   ]
  },
  {
   "cell_type": "markdown",
   "id": "799cfe5b",
   "metadata": {
    "editable": true
   },
   "source": [
    "\\begin{equation}\n",
    "S(A,B)=-\\mathrm{Tr}\\left(\\rho_{A,B}\\log_2 (\\rho_{A,B})\\right).\n",
    "\\end{equation}"
   ]
  },
  {
   "cell_type": "markdown",
   "id": "e44335d2",
   "metadata": {
    "editable": true
   },
   "source": [
    "You can select parameter values (or other of your choice)"
   ]
  },
  {
   "cell_type": "code",
   "execution_count": null,
   "id": "4b08069a",
   "metadata": {
    "collapsed": false,
    "editable": true,
    "jupyter": {
     "outputs_hidden": false
    }
   },
   "outputs": [],
   "source": [
    "Hx = 2.0\n",
    "Hz = 3.0\n",
    "# H_0\n",
    "Energiesnoninteracting = [0.0, 2.5, 6.5, 7.0]"
   ]
  },
  {
   "cell_type": "markdown",
   "id": "704cb83c",
   "metadata": {
    "editable": true
   },
   "source": [
    "Compute the eigenvalues **using standard eigenvalue solvers** as functions of\n",
    "the interaction strength $\\lambda$ and study the role of entanglement.\n",
    "Compute thereafter the Von Neumann entropy for one of the subsystems using the denisty matrix  of the lowest\n",
    "two-body state . Comment your results.\n",
    "\n",
    "The example here shows the above von Neumann entropy based on the\n",
    "density matrix for the lowest many-body state. We see clearly a jump\n",
    "in the entropy around the point where we have a level crossing. At\n",
    "interaction strenght $\\lambda=0$ we have many-body states purely\n",
    "defined by their computational basis states. As we switch on the\n",
    "interaction strength, we obtain an increased degree of mixing and the\n",
    "entropy increases till we reach the level crossing point where we see\n",
    "an additional and sudden increase in entropy. Similar behaviors are\n",
    "observed for the other states. The most important result from this\n",
    "example is that entanglement is driven by the Hamiltonian itself and\n",
    "the strength of the interaction matrix elements and the\n",
    "non-interacting energies."
   ]
  },
  {
   "cell_type": "markdown",
   "id": "19a3332c-a1b9-4eb8-ac31-8c5ea7ab8ed7",
   "metadata": {},
   "source": [
    "<span style=\"color:red\">Solution:</span>"
   ]
  },
  {
   "cell_type": "markdown",
   "id": "905aa550-ede3-413a-bc36-bd08d6d5f176",
   "metadata": {},
   "source": [
    "#### Standard eigenvalue solvers"
   ]
  },
  {
   "cell_type": "code",
   "execution_count": 2,
   "id": "b13df626-b72d-45cb-8e78-a2d1fec4ef59",
   "metadata": {},
   "outputs": [
    {
     "data": {
      "image/png": "[encoded data removed]",
      "text/plain": [
       "<Figure size 640x480 with 1 Axes>"
      ]
     },
     "metadata": {},
     "output_type": "display_data"
    },
    {
     "name": "stdout",
     "output_type": "stream",
     "text": [
      "------------------------------------------------------------------------------------------------------------------------\n",
      "------------------------------------------------------------------------------------------------------------------------\n",
      "      Lambda  Evalues [0]  Evalues [1]  Evalues [2]  Evalues [3]\n",
      "0   0.000000     0.000000     2.500000     6.500000     7.000000\n",
      "1   0.016949     0.050683     2.448865     6.449440     7.051012\n",
      "2   0.033898     0.101038     2.397156     6.399454     7.102351\n",
      "3   0.050847     0.151065     2.344874     6.350041     7.154019\n",
      "4   0.067797     0.200764     2.292019     6.301201     7.206015\n",
      "5   0.084746     0.250136     2.238594     6.252932     7.258339\n",
      "6   0.101695     0.299180     2.184600     6.205231     7.310989\n",
      "7   0.118644     0.347898     2.130041     6.158095     7.363967\n",
      "8   0.135593     0.396289     2.074919     6.111522     7.417270\n",
      "9   0.152542     0.444356     2.019238     6.065508     7.470899\n",
      "10  0.169492     0.492097     1.963001     6.020049     7.524852\n",
      "11  0.186441     0.539515     1.906215     5.975141     7.579129\n",
      "12  0.203390     0.586610     1.848882     5.930779     7.633729\n",
      "13  0.220339     0.633384     1.791009     5.886957     7.688650\n",
      "14  0.237288     0.679836     1.732601     5.843670     7.743893\n",
      "15  0.254237     0.725970     1.673664     5.800913     7.799454\n",
      "16  0.271186     0.771785     1.614203     5.758678     7.855334\n",
      "17  0.288136     0.817283     1.554226     5.716960     7.911531\n",
      "18  0.305085     0.862466     1.493740     5.675752     7.968043\n",
      "19  0.322034     0.907335     1.432750     5.635046     8.024869\n",
      "20  0.338983     0.951891     1.371265     5.594836     8.082007\n",
      "21  0.355932     0.996137     1.309292     5.555114     8.139456\n",
      "22  0.372881     1.040074     1.246839     5.515873     8.197214\n",
      "23  0.389831     1.083704     1.183913     5.477104     8.255279\n",
      "24  0.406780     1.120523     1.127029     5.438799     8.313649\n",
      "25  0.423729     1.056675     1.170050     5.400952     8.372323\n",
      "26  0.440678     0.992380     1.212770     5.363553     8.431298\n",
      "27  0.457627     0.927644     1.255190     5.326594     8.490573\n",
      "28  0.474576     0.862476     1.297313     5.290067     8.550144\n",
      "29  0.491525     0.796884     1.339141     5.253963     8.610011\n",
      "30  0.508475     0.730877     1.380676     5.218275     8.670171\n",
      "31  0.525424     0.664463     1.421920     5.182994     8.730622\n",
      "32  0.542373     0.597651     1.462876     5.148112     8.791361\n",
      "33  0.559322     0.530448     1.503546     5.113619     8.852386\n",
      "34  0.576271     0.462864     1.543932     5.079509     8.913695\n",
      "35  0.593220     0.394905     1.584036     5.045773     8.975286\n",
      "36  0.610169     0.326582     1.623862     5.012402     9.037155\n",
      "37  0.627119     0.257900     1.663411     4.979388     9.099300\n",
      "38  0.644068     0.188870     1.702687     4.946724     9.161720\n",
      "39  0.661017     0.119498     1.741691     4.914401     9.224411\n",
      "40  0.677966     0.049792     1.780426     4.882411     9.287370\n",
      "41  0.694915    -0.020239     1.818895     4.850748     9.350596\n",
      "42  0.711864    -0.090589     1.857101     4.819402     9.414085\n",
      "43  0.728814    -0.161249     1.895046     4.788368     9.477836\n",
      "44  0.745763    -0.232213     1.932732     4.757636     9.541844\n",
      "45  0.762712    -0.303472     1.970163     4.727201     9.606109\n",
      "46  0.779661    -0.375020     2.007340     4.697054     9.670626\n",
      "47  0.796610    -0.446850     2.044268     4.667189     9.735393\n",
      "48  0.813559    -0.518956     2.080948     4.637600     9.800408\n",
      "49  0.830508    -0.591329     2.117383     4.608278     9.865668\n",
      "50  0.847458    -0.663964     2.153576     4.579218     9.931169\n",
      "51  0.864407    -0.736854     2.189530     4.550413     9.996910\n",
      "52  0.881356    -0.809992     2.225247     4.521857    10.062888\n",
      "53  0.898305    -0.883374     2.260731     4.493543    10.129100\n",
      "54  0.915254    -0.956991     2.295983     4.465466    10.195543\n",
      "55  0.932203    -1.030840     2.331006     4.437620    10.262214\n",
      "56  0.949153    -1.104913     2.365804     4.409998    10.329111\n",
      "57  0.966102    -1.179206     2.400379     4.382596    10.396231\n",
      "58  0.983051    -1.253712     2.434734     4.355407    10.463571\n",
      "59  1.000000    -1.328427     2.468871     4.328427    10.531129\n"
     ]
    }
   ],
   "source": [
    "from  matplotlib import pyplot as plt\n",
    "import numpy as np\n",
    "\n",
    "# Pauli matrix and identity matrix\n",
    "I = np.array([[1,0],\n",
    "              [0,1]])\n",
    "X = np.array([[0,1],\n",
    "              [1,0]])\n",
    "Y = np.array([[0,-1j],\n",
    "              [1j,0]])\n",
    "Z = np.array([[1,0],\n",
    "              [0,-1]])\n",
    "\n",
    "# Hamiltonian non-interacting\n",
    "E00 = 0.0\n",
    "E10 = 2.5\n",
    "E01 = 6.5\n",
    "E11 = 7.0\n",
    "H0 = np.array([[E00,0,0,0],\n",
    "               [0,E10,0,0],\n",
    "               [0,0,E01,0],\n",
    "               [0,0,0,E11]])\n",
    "\n",
    "# Hamiltonian interacting\n",
    "Hx = 2.0\n",
    "Hz = 3.0\n",
    "H1 = Hx*np.kron(X,X) + Hz*np.kron(Z,Z) # Matrix 4x4\n",
    "\n",
    "dim = 4\n",
    "Hamiltonian = np.zeros((dim,dim))\n",
    "\n",
    "n = 60\n",
    "lmbd = np.linspace(0.0,1.0,n)\n",
    "Eigenvalue = np.zeros((dim,n))\n",
    "\n",
    "# Hamiltonian written in Pauli matrices terms\n",
    "for i in range(n):\n",
    "    H = H0 + lmbd[i]*H1\n",
    "    EigValues, EigVectors = np.linalg.eig(H)\n",
    "    permute = EigValues.argsort()          \n",
    "    EigValues = EigValues[permute]        \n",
    "    EigVectors = EigVectors[:,permute]     \n",
    "    for j in range(dim):\n",
    "        Eigenvalue[j,i] = EigValues[j]\n",
    "\n",
    "plt.plot(lmbd, Eigenvalue[0,:] ,'b-',lmbd, Eigenvalue[1,:],'r-',lmbd, Eigenvalue[2,:],'g-',lmbd, Eigenvalue[3,:],'y-',)\n",
    "plt.xlabel('$\\lambda$')\n",
    "plt.ylabel('Eigenvalues')\n",
    "plt.show()\n",
    "print('------------------------------------------------------------------------------------------------------------------------')\n",
    "print('------------------------------------------------------------------------------------------------------------------------')\n",
    "import pandas as pd\n",
    "from pandas import DataFrame\n",
    "data ={'Lambda':lmbd, 'Evalues [0]':Eigenvalue[0,:],'Evalues [1]':Eigenvalue[1,:],'Evalues [2]':Eigenvalue[2,:],'Evalues [3]':Eigenvalue[3,:],}\n",
    "frame = pd.DataFrame(data)\n",
    "print(frame)"
   ]
  },
  {
   "cell_type": "markdown",
   "id": "f42dace4-c005-4dd4-85f9-632a05d66a3c",
   "metadata": {},
   "source": [
    "<span style=\"color:red\">Comment:</span> For this hamiltonian is possible to reach the entanglement, which it is due to the increase in $\\lambda$. From the image, we can say that the entanglement occurs in all the states. If we change the values for $\\epsilon_{00}$, $\\epsilon_{10}$, $\\epsilon_{01}$ and $\\epsilon_{11}$, by decreasing these values the entanglement is stronger."
   ]
  },
  {
   "cell_type": "code",
   "execution_count": 3,
   "id": "8b280359-fe3c-4509-b3ba-c3bb8279fd3c",
   "metadata": {},
   "outputs": [
    {
     "name": "stdout",
     "output_type": "stream",
     "text": [
      "Lowest energy = -1.3284271247461903\n",
      "[[ 0.         -0.96649965  0.          0.25666794]\n",
      " [-0.92387953  0.          0.38268343  0.        ]\n",
      " [ 0.38268343  0.          0.92387953  0.        ]\n",
      " [ 0.          0.25666794  0.          0.96649965]] = Eigenvectors \n"
     ]
    }
   ],
   "source": [
    "print('Lowest energy =',EigValues[0])\n",
    "print(EigVectors,'= Eigenvectors ')"
   ]
  },
  {
   "cell_type": "markdown",
   "id": "4eecc3a3-626e-4049-8f00-d135de5207e7",
   "metadata": {},
   "source": [
    "#### Von Neumann entropy"
   ]
  },
  {
   "cell_type": "code",
   "execution_count": 4,
   "id": "8f0fee60-fe57-40d2-8b12-1e1370bd2f60",
   "metadata": {},
   "outputs": [
    {
     "name": "stdout",
     "output_type": "stream",
     "text": [
      "Von-Neumann Entropy (subsystem A) = 0.5511009581134404\n"
     ]
    }
   ],
   "source": [
    "import math\n",
    "import warnings\n",
    "warnings.simplefilter(action = \"ignore\", category = RuntimeWarning)\n",
    "\n",
    "# coefficients from eigenvectors\n",
    "alpha00 = 0.25666794\n",
    "alpha10 = 0.38268343\n",
    "alpha01 = 0.92387953\n",
    "alpha11 = 0.96649965\n",
    "\n",
    "# Computational basis\n",
    "statezero = np.array([[1],[0]])\n",
    "stateone = np.array([[0],[1]]) \n",
    "\n",
    "# projections\n",
    "#P0 = np.kron(statezero, statezero) @ np.kron(statezero, statezero).T       # |00><00| = np.kron(|0><0|, |0><0|)\n",
    "#P1 = np.kron(stateone, statezero) @ np.kron(stateone, statezero).T         # |10><10| = np.kron(|1><0|, |1><0|)\n",
    "#P2 = np.kron(statezero, stateone) @ np.kron(statezero, stateone).T         # |01><01| = np.kron(|0><1|, |0><1|)\n",
    "#P3 = np.kron(stateone, stateone) @ np.kron(stateone, stateone).T           # |11><11| = np.kron(|1><1|, |1><1|)\n",
    "\n",
    "# Density matrix of the first eigenstate (lowest energy)\n",
    "#D0 = alpha00*P0 + alpha10*P1 + alpha01*P2 + alpha11*P3\n",
    "\n",
    "# Density matrix for subsystem A\n",
    "D_A = alpha00*np.kron(statezero.T, statezero) + alpha11*np.kron(stateone.T, stateone)\n",
    "\n",
    "# Von-Neumann entropy for subsystem A\n",
    "S_A = -1*np.trace(D_A*np.log2(D_A))\n",
    "\n",
    "print('Von-Neumann Entropy (subsystem A) =',S_A)"
   ]
  },
  {
   "cell_type": "code",
   "execution_count": null,
   "id": "f7d0b4bd-65aa-425d-8a98-559711140ddb",
   "metadata": {},
   "outputs": [],
   "source": []
  }
 ],
 "metadata": {
  "kernelspec": {
   "display_name": "Python 3 (ipykernel)",
   "language": "python",
   "name": "python3"
  },
  "language_info": {
   "codemirror_mode": {
    "name": "ipython",
    "version": 3
   },
   "file_extension": ".py",
   "mimetype": "text/x-python",
   "name": "python",
   "nbconvert_exporter": "python",
   "pygments_lexer": "ipython3",
   "version": "3.10.12"
  }
 },
 "nbformat": 4,
 "nbformat_minor": 5
}
