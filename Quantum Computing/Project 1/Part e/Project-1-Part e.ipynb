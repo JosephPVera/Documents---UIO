{
 "cells": [
  {
   "cell_type": "markdown",
   "id": "3f0b66d2",
   "metadata": {
    "editable": true
   },
   "source": [
    "<!-- HTML file automatically generated from DocOnce source (https://github.com/doconce/doconce/)\n",
    "doconce format html Project1.do.txt  -->\n",
    "<!-- dom:TITLE: Quantum Computing and Quantum Machine Learning, Project 1 -->"
   ]
  },
  {
   "cell_type": "markdown",
   "id": "983a97ec",
   "metadata": {
    "editable": true
   },
   "source": [
    "## Part e)\n",
    "\n",
    "Compute now the eigenvalues of this system using the VQE method and\n",
    "set up the circuits needed to find the lowest state. Compare these\n",
    "results with those from the previous part. Feel free again to either\n",
    "use your own code for the circuit and your VQE code or use the\n",
    "functionality of [Qiskit](https://qiskit.org/), or both."
   ]
  },
  {
   "cell_type": "markdown",
   "id": "5ce4fe57-abd8-4b27-ac8e-de8beec44cd3",
   "metadata": {},
   "source": [
    "<span style=\"color:red\">Solution:</span>"
   ]
  },
  {
   "cell_type": "markdown",
   "id": "5a863026-d292-4cea-8a4e-5f71e02ccc67",
   "metadata": {},
   "source": [
    "Case for two qubits. Here we follow with the main idea about the VQE"
   ]
  },
  {
   "cell_type": "markdown",
   "id": "074bdd4e-7e0f-4900-b26f-4bfaac01a777",
   "metadata": {},
   "source": [
    "Rotational gates for different parameters have the following forms:"
   ]
  },
  {
   "cell_type": "markdown",
   "id": "919c9d9c-4f82-4abb-b771-330e9f5d04d7",
   "metadata": {},
   "source": [
    "$$R_{y}(\\phi_{1}) = \\cos(\\frac{\\phi_{1}}{2})I - i\\sin(\\frac{\\phi_{1}}{2})\\sigma_{y} =\n",
    "\\begin{bmatrix}\n",
    "\\cos(\\frac{\\phi_{1}}{2}) & -\\sin(\\frac{\\phi_{1}}{2}) \\\\\n",
    "\\sin(\\frac{\\phi_{1}}{2}) & \\cos(\\frac{\\phi_{1}}{2}) \n",
    "\\end{bmatrix}$$"
   ]
  },
  {
   "cell_type": "markdown",
   "id": "974df385-52ca-46fa-b958-eece86d9fa21",
   "metadata": {},
   "source": [
    "$$R_{x}(\\theta_{1}) =  \\cos(\\frac{\\theta_{1}}{2})I - i\\sin(\\frac{\\theta_{1}}{2})\\sigma_{x} =\n",
    "\\begin{bmatrix}\n",
    "\\cos(\\frac{\\theta_{1}}{2}) & -i\\sin(\\frac{\\theta_{1}}{2}) \\\\\n",
    "-i\\sin(\\frac{\\theta_{1}}{2}) & \\cos(\\frac{\\theta_{1}}{2}) \n",
    "\\end{bmatrix}$$"
   ]
  },
  {
   "cell_type": "markdown",
   "id": "ab432e00-7ee2-4e4c-9684-dc0fe57305c3",
   "metadata": {},
   "source": [
    "$$R_{y}(\\phi_{2}) = \\cos(\\frac{\\phi_{2}}{2})I - i\\sin(\\frac{\\phi_{2}}{2})\\sigma_{y} =\n",
    "\\begin{bmatrix}\n",
    "\\cos(\\frac{\\phi_{2}}{2}) & -\\sin(\\frac{\\phi_{2}}{2}) \\\\\n",
    "\\sin(\\frac{\\phi_{2}}{2}) & \\cos(\\frac{\\phi_{2}}{2}) \n",
    "\\end{bmatrix}$$"
   ]
  },
  {
   "cell_type": "markdown",
   "id": "faa97550-a8d0-4f75-a051-7b8219314eae",
   "metadata": {},
   "source": [
    "$$R_{x}(\\theta_{2}) =  \\cos(\\frac{\\theta_{2}}{2})I - i\\sin(\\frac{\\theta_{2}}{2})\\sigma_{x} =\n",
    "\\begin{bmatrix}\n",
    "\\cos(\\frac{\\theta_{2}}{2}) & -i\\sin(\\frac{\\theta_{2}}{2}) \\\\\n",
    "-i\\sin(\\frac{\\theta_{2}}{2}) & \\cos(\\frac{\\theta_{2}}{2}) \n",
    "\\end{bmatrix}$$"
   ]
  },
  {
   "cell_type": "markdown",
   "id": "c0aa4a1b-c658-49a9-9506-1bb08f4edd04",
   "metadata": {},
   "source": [
    "Now we rewrite the hamiltonian via Pauli matrices. "
   ]
  },
  {
   "cell_type": "markdown",
   "id": "edeb2daa-6b8e-40af-9081-7210d7bccdba",
   "metadata": {},
   "source": [
    "$$\\begin{equation}\n",
    "H = \\alpha \\mathbb{1} \\otimes \\mathbb{1} + \\beta \\mathbb{1}\\otimes \\sigma_{z} + \\gamma \\sigma_{z}\\otimes \\mathbb{1} + (\\delta + H_{z})\\sigma_{z}\\otimes \\sigma_{z} + H_{x}\\sigma_{x}\\otimes \\sigma_{x} \n",
    "\\end{equation}\n",
    "$$"
   ]
  },
  {
   "cell_type": "code",
   "execution_count": 1,
   "id": "6cdd063e-06dd-46a9-85d5-3bb516259219",
   "metadata": {},
   "outputs": [
    {
     "name": "stdout",
     "output_type": "stream",
     "text": [
      "Quantum Circuit:\n"
     ]
    },
    {
     "data": {
      "image/png": "[encoded data removed]",
      "text/plain": [
       "<Figure size 370.906x200.667 with 1 Axes>"
      ]
     },
     "metadata": {},
     "output_type": "display_data"
    },
    {
     "name": "stdout",
     "output_type": "stream",
     "text": [
      "Energy: -1.3284271152643001\n",
      "--------------------------------------------------------------------------------------------------------------\n",
      "--------------------------------------------------------------------------------------------------------------\n",
      "Optimal parameters θ[0,1,2,3]: [ 3.14159155e+00  3.14166217e+00  2.35619004e+00 -6.90290644e-05]\n"
     ]
    }
   ],
   "source": [
    "from qiskit.quantum_info import SparsePauliOp\n",
    "from qiskit_algorithms.optimizers import COBYLA\n",
    "from qiskit_algorithms.minimum_eigensolvers import VQE\n",
    "from qiskit.circuit.library import TwoLocal\n",
    "from qiskit.primitives import Sampler, Estimator\n",
    "\n",
    "E00 = 0.0\n",
    "E10 = 2.5\n",
    "E01 = 6.5\n",
    "E11 = 7.0\n",
    "alpha = (E00 + E10 + E01 + E11)/4\n",
    "betha = (E00 + E10 - E01 - E11)/4\n",
    "gamma = (E00 - E10 + E01 - E11)/4\n",
    "delta = (E00 - E10 - E01 + E11)/4\n",
    "Hx = 2.0\n",
    "Hz = 3.0\n",
    "\n",
    "ansatz = TwoLocal(2, ['rx','ry','cx'], 'cx','linear', reps=0)\n",
    "op = SparsePauliOp.from_list([('II',alpha), ('IZ',betha), ('ZI',gamma), ('ZZ',delta + Hz), ('XX',Hx)])\n",
    "\n",
    "estimator = Estimator() \n",
    "optimizer = COBYLA() \n",
    " \n",
    "vqe = VQE(estimator, ansatz, optimizer) \n",
    "result = vqe.compute_minimum_eigenvalue(operator=op) \n",
    "eigenvalue = result.eigenvalue\n",
    "\n",
    "print(\"Quantum Circuit:\")\n",
    "display(ansatz.decompose().draw('mpl'))\n",
    "print(\"Energy:\",eigenvalue)\n",
    "print(\"--------------------------------------------------------------------------------------------------------------\")\n",
    "print(\"--------------------------------------------------------------------------------------------------------------\")\n",
    "print(\"Optimal parameters θ[0,1,2,3]:\",result.optimal_point)"
   ]
  },
  {
   "cell_type": "markdown",
   "id": "ef1f56eb-082e-4d02-83fd-b000509e8a47",
   "metadata": {},
   "source": [
    "Again we can set up the circuit to perform measurements"
   ]
  },
  {
   "cell_type": "code",
   "execution_count": 2,
   "id": "518e1e74-8f60-42d3-8d62-71bb2e0cf677",
   "metadata": {},
   "outputs": [
    {
     "data": {
      "image/png": "[encoded data removed]",
      "text/plain": [
       "<Figure size 747.609x284.278 with 1 Axes>"
      ]
     },
     "execution_count": 2,
     "metadata": {},
     "output_type": "execute_result"
    }
   ],
   "source": [
    "from qiskit import QuantumCircuit\n",
    "import qiskit_aer\n",
    "from qiskit.visualization import plot_histogram\n",
    "import numpy as np\n",
    "\n",
    "backend = qiskit_aer.Aer.get_backend('qasm_simulator')\n",
    "\n",
    "qr = QuantumCircuit(2)\n",
    "qr.rx(result.optimal_point[0],0)        # rotational x for the first qubit\n",
    "qr.ry(result.optimal_point[2],0)        # rotational y for the first qubit\n",
    "qr.rx(result.optimal_point[1],1)        # rotational x for the second qubit\n",
    "qr.ry(result.optimal_point[3],1)        # rotational y for the second qubit\n",
    "qr.cx(0, 1) \n",
    "\n",
    "qr.measure_all()\n",
    "qr.draw(output=\"mpl\")"
   ]
  },
  {
   "cell_type": "code",
   "execution_count": 3,
   "id": "b8b846fc-0222-4d82-9a5a-c9bf399180d3",
   "metadata": {},
   "outputs": [
    {
     "data": {
      "image/png": "[encoded data removed]",
      "text/plain": [
       "<Figure size 700x500 with 1 Axes>"
      ]
     },
     "execution_count": 3,
     "metadata": {},
     "output_type": "execute_result"
    }
   ],
   "source": [
    "job = backend.run(qr, shots=10000)\n",
    "result = job.result()\n",
    "\n",
    "counts = result.get_counts(qr)\n",
    "plot_histogram(counts)"
   ]
  },
  {
   "cell_type": "markdown",
   "id": "e9af089b-f5be-4f7f-88dc-3ea0e1ff19ea",
   "metadata": {},
   "source": [
    "We also have created other code using qiskit but define the wave function (ansatz) and the explicit calculation for the expectation value. You can check the created code in **[https://github.com/JosephPVera/UIO/blob/main/Quantum%20Computing/Project%201/Report%20codes/%20Project%201%20-%20Report%20codes.ipynb](https://github.com/JosephPVera/UIO/blob/main/Quantum%20Computing/Project%201/Report%20codes/%20Project%201%20-%20Report%20codes.ipynb)**"
   ]
  },
  {
   "cell_type": "code",
   "execution_count": null,
   "id": "f7d0b4bd-65aa-425d-8a98-559711140ddb",
   "metadata": {},
   "outputs": [],
   "source": []
  }
 ],
 "metadata": {
  "kernelspec": {
   "display_name": "Python 3 (ipykernel)",
   "language": "python",
   "name": "python3"
  },
  "language_info": {
   "codemirror_mode": {
    "name": "ipython",
    "version": 3
   },
   "file_extension": ".py",
   "mimetype": "text/x-python",
   "name": "python",
   "nbconvert_exporter": "python",
   "pygments_lexer": "ipython3",
   "version": "3.10.12"
  }
 },
 "nbformat": 4,
 "nbformat_minor": 5
}
