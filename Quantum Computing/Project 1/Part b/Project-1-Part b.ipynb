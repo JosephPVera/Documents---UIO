{
 "cells": [
  {
   "cell_type": "markdown",
   "id": "3f0b66d2",
   "metadata": {
    "editable": true
   },
   "source": [
    "<!-- HTML file automatically generated from DocOnce source (https://github.com/doconce/doconce/)\n",
    "doconce format html Project1.do.txt  -->\n",
    "<!-- dom:TITLE: Quantum Computing and Quantum Machine Learning, Project 1 -->"
   ]
  },
  {
   "cell_type": "markdown",
   "id": "15842ba1-5c1d-4fa7-9134-c56dcf00f091",
   "metadata": {},
   "source": [
    "## Part b)\n",
    "\n",
    "We define a  symmetric matrix  $H\\in {\\mathbb{R}}^{2\\times 2}$"
   ]
  },
  {
   "cell_type": "markdown",
   "id": "3398efa1",
   "metadata": {
    "editable": true
   },
   "source": [
    "\\begin{equation}\n",
    "H = \\begin{bmatrix} H_{11} & H_{12} \\\\ H_{21} & H_{22}\n",
    "\\end{bmatrix},\n",
    "\\end{equation}"
   ]
  },
  {
   "cell_type": "markdown",
   "id": "288b278b",
   "metadata": {
    "editable": true
   },
   "source": [
    "We  let $H = H_0 + H_I$, where"
   ]
  },
  {
   "cell_type": "markdown",
   "id": "620e1bee",
   "metadata": {
    "editable": true
   },
   "source": [
    "\\begin{equation}\n",
    "H_0= \\begin{bmatrix} E_1 & 0 \\\\ 0 & E_2\\end{bmatrix},\n",
    "\\end{equation}"
   ]
  },
  {
   "cell_type": "markdown",
   "id": "773fc085",
   "metadata": {
    "editable": true
   },
   "source": [
    "is a diagonal matrix. Similarly,"
   ]
  },
  {
   "cell_type": "markdown",
   "id": "5c1d9874",
   "metadata": {
    "editable": true
   },
   "source": [
    "\\begin{equation}\n",
    "H_I= \\begin{bmatrix} V_{11} & V_{12} \\\\ V_{21} & V_{22}\\end{bmatrix},\n",
    "\\end{equation}"
   ]
  },
  {
   "cell_type": "markdown",
   "id": "30d55acf",
   "metadata": {
    "editable": true
   },
   "source": [
    "where $V_{ij}$ represent various interaction matrix elements.\n",
    "We can view $H_0$ as the non-interacting solution"
   ]
  },
  {
   "cell_type": "markdown",
   "id": "4c505658",
   "metadata": {
    "editable": true
   },
   "source": [
    "\\begin{equation}\n",
    "       H_0\\vert 0 \\rangle =E_1\\vert 0 \\rangle\n",
    "\\end{equation}"
   ]
  },
  {
   "cell_type": "markdown",
   "id": "37a03aaf",
   "metadata": {
    "editable": true
   },
   "source": [
    "and"
   ]
  },
  {
   "cell_type": "markdown",
   "id": "5c3d8a49",
   "metadata": {
    "editable": true
   },
   "source": [
    "\\begin{equation}\n",
    "       H_0\\vert 1\\rangle =E_2\\vert 1\\rangle\n",
    "\\end{equation}"
   ]
  },
  {
   "cell_type": "markdown",
   "id": "78c661e2",
   "metadata": {
    "editable": true
   },
   "source": [
    "where we have defined the orthogonal computational one-qubit basis states $\\vert 0\\rangle$ and $\\vert 1\\rangle$.\n",
    "\n",
    "We rewrite $H$ (and $H_0$ and $H_I$)  via Pauli matrices"
   ]
  },
  {
   "cell_type": "markdown",
   "id": "c861fefa",
   "metadata": {
    "editable": true
   },
   "source": [
    "\\begin{equation}\n",
    "H_0 = \\mathcal{E} I + \\Omega \\sigma_z, \\quad \\mathcal{E} = \\frac{E_1\n",
    "  + E_2}{2}, \\; \\Omega = \\frac{E_1-E_2}{2},\n",
    "\\end{equation}"
   ]
  },
  {
   "cell_type": "markdown",
   "id": "1d177951",
   "metadata": {
    "editable": true
   },
   "source": [
    "and"
   ]
  },
  {
   "cell_type": "markdown",
   "id": "392330da",
   "metadata": {
    "editable": true
   },
   "source": [
    "\\begin{equation}\n",
    "H_I = c \\boldsymbol{I} +\\omega_z\\sigma_z + \\omega_x\\sigma_x,\n",
    "\\end{equation}"
   ]
  },
  {
   "cell_type": "markdown",
   "id": "f1de780d",
   "metadata": {
    "editable": true
   },
   "source": [
    "with $c = (V_{11}+V_{22})/2$, $\\omega_z = (V_{11}-V_{22})/2$ and $\\omega_x = V_{12}=V_{21}$.\n",
    "We let our Hamiltonian depend linearly on a strength parameter $\\lambda$"
   ]
  },
  {
   "cell_type": "markdown",
   "id": "2dc57528",
   "metadata": {
    "editable": true
   },
   "source": [
    "\\begin{equation}\n",
    "H=H_0+\\lambda H_\\mathrm{I},\n",
    "\\end{equation}"
   ]
  },
  {
   "cell_type": "markdown",
   "id": "4dc31f40",
   "metadata": {
    "editable": true
   },
   "source": [
    "with $\\lambda \\in [0,1]$, where the limits $\\lambda=0$ and $\\lambda=1$\n",
    "represent the non-interacting (or unperturbed) and fully interacting\n",
    "system, respectively.  The model is an eigenvalue problem with only\n",
    "two available states.\n",
    "\n",
    "Here we set the parameters $E_1=0$,\n",
    "$E_2=4$, $V_{11}=-V_{22}=3$ and $V_{12}=V_{21}=0.2$.\n",
    "\n",
    "The non-interacting solutions represent our computational basis.\n",
    "Pertinent to our choice of parameters, is that at $\\lambda\\geq 2/3$,\n",
    "the lowest eigenstate is dominated by $\\vert 1\\rangle$ while the upper\n",
    "is $\\vert 0 \\rangle$. At $\\lambda=1$ the $\\vert 0 \\rangle$ mixing of\n",
    "the lowest eigenvalue is $1\\%$ while for $\\lambda\\leq 2/3$ we have a\n",
    "$\\vert 0 \\rangle$ component of more than $90\\%$.  The character of the\n",
    "eigenvectors has therefore been interchanged when passing $z=2/3$. The\n",
    "value of the parameter $V_{12}$ represents the strength of the coupling\n",
    "between the two states..\n",
    "\n",
    "Solve **by standard eigenvalue solvers** (either numerically or analytically) the above eigenvalue problem.\n",
    "Find the two eigenvalues as function of the interaction strength $\\lambda$.\n",
    "Study the behavior of these eigenstates as functions of the interaction strength $\\lambda$.\n",
    "Comment your results."
   ]
  },
  {
   "cell_type": "markdown",
   "id": "eaa60615-207b-4ca0-bfcd-de4b33fe0401",
   "metadata": {},
   "source": [
    "<span style=\"color:red\">Solution:</span>"
   ]
  },
  {
   "cell_type": "markdown",
   "id": "0f32c629-5a10-4592-8cb8-7015015c0577",
   "metadata": {},
   "source": [
    "Here for the first steps, we're going to follow an analytical calculations. Using the hamiltonian for diagonalize it and calculate the eigenvalues\n",
    "\\begin{equation}\n",
    "|H - IE| = 0\n",
    "\\end{equation}"
   ]
  },
  {
   "cell_type": "markdown",
   "id": "fcd5cd0b-4d00-47ed-be76-fbe2498708fc",
   "metadata": {},
   "source": [
    "general form $H = H_{0} + \\lambda H_{I}$"
   ]
  },
  {
   "cell_type": "markdown",
   "id": "26a83242-7d14-41f7-938d-61760eb41f73",
   "metadata": {},
   "source": [
    "\\begin{equation}\n",
    "H - IE = \n",
    "\\begin{bmatrix} \n",
    "E_{1} & 0\\\\ \n",
    "0 & E_{2} \n",
    "\\end{bmatrix} + \\lambda\n",
    "\\begin{bmatrix} \n",
    "V_{11} & V_{12}\\\\ \n",
    "V_{21} & V_{22} \n",
    "\\end{bmatrix} -\n",
    "\\begin{bmatrix} \n",
    "E & 0\\\\ \n",
    "0 & E \n",
    "\\end{bmatrix} = \n",
    "\\begin{bmatrix} \n",
    "E_{1} + \\lambda V_{11} - E & \\lambda V_{12}\\\\ \n",
    "\\lambda V_{21} & E_{2} + \\lambda V_{22} - E \n",
    "\\end{bmatrix}\n",
    "\\end{equation}"
   ]
  },
  {
   "cell_type": "markdown",
   "id": "54fa8973-b0ef-4cce-85cb-eefa3a2cd791",
   "metadata": {},
   "source": [
    "\\begin{equation}\n",
    "\\begin{vmatrix}\n",
    "E_{1} + \\lambda V_{11} - E & \\lambda V_{12}\\\\ \n",
    "\\lambda V_{21} & E_{2} + \\lambda V_{22} - E\n",
    "\\end{vmatrix} = 0\n",
    "\\end{equation}"
   ]
  },
  {
   "cell_type": "markdown",
   "id": "8550dce7-b859-4957-bf2a-e16a8bdd3522",
   "metadata": {},
   "source": [
    "using some conditions $V_{12} = V_{21} = V$ and $V_{11} = -V_{22} = \\delta$"
   ]
  },
  {
   "cell_type": "markdown",
   "id": "a52c1d54-9d45-4138-9a4f-2b569f0d0fd6",
   "metadata": {},
   "source": [
    "\\begin{equation}\n",
    "\\begin{vmatrix}\n",
    "E_{1} + \\lambda \\delta - E & \\lambda V\\\\ \n",
    "\\lambda V & E_{2} - \\lambda \\delta - E\n",
    "\\end{vmatrix} = 0 \n",
    "\\end{equation}"
   ]
  },
  {
   "cell_type": "markdown",
   "id": "c978568c-4f3b-4001-af1e-83f44e864f0e",
   "metadata": {},
   "source": [
    "\\begin{equation}\n",
    "E^{2} - (E_{1} + E_{2})E - (\\lambda^{2}(\\delta^{2}+V^{2}) + \\lambda \\delta (E_{1} - E_{2}) - E_{1}E_{2}) = 0 \n",
    "\\end{equation}"
   ]
  },
  {
   "cell_type": "markdown",
   "id": "4d8675b1-2a01-4966-b756-3ac068c3fa61",
   "metadata": {},
   "source": [
    "solutions for cuadratic equation"
   ]
  },
  {
   "cell_type": "markdown",
   "id": "a3200756-bd22-4fb7-8e7f-f4d57726108b",
   "metadata": {},
   "source": [
    "\\begin{equation}\n",
    "E = \\frac{E_{1}+E_{2} \\pm \\sqrt{(E_{1}+E_{2})^{2}+4(\\lambda^{2}(\\delta^{2}+V^{2}) + \\lambda \\delta (E_{1} - E_{2}) - E_{1}E_{2}) }}{2}\n",
    "\\end{equation}"
   ]
  },
  {
   "cell_type": "markdown",
   "id": "24353579-9f44-4644-b336-0b0777c499df",
   "metadata": {},
   "source": [
    "follow the next conditions: $\\delta = 2$, $V = 0.2$, $E_{1}=0$ and $E_{2}=4$. We can write the solutions as function of $\\lambda$"
   ]
  },
  {
   "cell_type": "markdown",
   "id": "7036ade9-86b8-458e-9d6a-b013ec241cc3",
   "metadata": {},
   "source": [
    "\\begin{equation}\n",
    "E(\\lambda) = 2 \\pm \\sqrt{9.04 \\lambda^{2} - 12\\lambda + 4}\n",
    "\\end{equation}"
   ]
  },
  {
   "cell_type": "markdown",
   "id": "2eea36b7-7feb-4aeb-8d31-4c3a729b0523",
   "metadata": {},
   "source": [
    "Now, let's use numerical calculations for plot the relation between the eigenvalues and the interaction strength $\\lambda$"
   ]
  },
  {
   "cell_type": "code",
   "execution_count": 2,
   "id": "e41a990f-4b21-4eef-a9ce-ffc5c9c9cc21",
   "metadata": {},
   "outputs": [
    {
     "data": {
      "image/png": "[encoded data removed]",
      "text/plain": [
       "<Figure size 640x480 with 1 Axes>"
      ]
     },
     "metadata": {},
     "output_type": "display_data"
    },
    {
     "name": "stdout",
     "output_type": "stream",
     "text": [
      "-----------------------------------------------------------\n",
      "-----------------------------------------------------------\n",
      "      Lambda  Eigenvalues [0]  Eigenvalues [1]\n",
      "0   0.000000         0.000000         4.000000\n",
      "1   0.016949         0.050845         3.949155\n",
      "2   0.033898         0.101683         3.898317\n",
      "3   0.050847         0.152514         3.847486\n",
      "4   0.067797         0.203339         3.796661\n",
      "5   0.084746         0.254155         3.745845\n",
      "6   0.101695         0.304963         3.695037\n",
      "7   0.118644         0.355761         3.644239\n",
      "8   0.135593         0.406549         3.593451\n",
      "9   0.152542         0.457325         3.542675\n",
      "10  0.169492         0.508089         3.491911\n",
      "11  0.186441         0.558840         3.441160\n",
      "12  0.203390         0.609574         3.390426\n",
      "13  0.220339         0.660292         3.339708\n",
      "14  0.237288         0.710990         3.289010\n",
      "15  0.254237         0.761667         3.238333\n",
      "16  0.271186         0.812320         3.187680\n",
      "17  0.288136         0.862946         3.137054\n",
      "18  0.305085         0.913539         3.086461\n",
      "19  0.322034         0.964098         3.035902\n",
      "20  0.338983         1.014614         2.985386\n",
      "21  0.355932         1.065083         2.934917\n",
      "22  0.372881         1.115495         2.884505\n",
      "23  0.389831         1.165840         2.834160\n",
      "24  0.406780         1.216106         2.783894\n",
      "25  0.423729         1.266276         2.733724\n",
      "26  0.440678         1.316329         2.683671\n",
      "27  0.457627         1.366238         2.633762\n",
      "28  0.474576         1.415965         2.584035\n",
      "29  0.491525         1.465459         2.534541\n",
      "30  0.508475         1.514650         2.485350\n",
      "31  0.525424         1.563435         2.436565\n",
      "32  0.542373         1.611661         2.388339\n",
      "33  0.559322         1.659090         2.340910\n",
      "34  0.576271         1.705338         2.294662\n",
      "35  0.593220         1.749749         2.250251\n",
      "36  0.610169         1.791147         2.208853\n",
      "37  0.627119         1.827351         2.172649\n",
      "38  0.644068         1.854435         2.145565\n",
      "39  0.661017         1.866715         2.133285\n",
      "40  0.677966         1.860234         2.139766\n",
      "41  0.694915         1.837218         2.162782\n",
      "42  0.711864         1.803390         2.196610\n",
      "43  0.728814         1.763342         2.236658\n",
      "44  0.745763         1.719728         2.280272\n",
      "45  0.762712         1.673977         2.326023\n",
      "46  0.779661         1.626872         2.373128\n",
      "47  0.796610         1.578869         2.421131\n",
      "48  0.813559         1.530242         2.469758\n",
      "49  0.830508         1.481168         2.518832\n",
      "50  0.847458         1.431761         2.568239\n",
      "51  0.864407         1.382102         2.617898\n",
      "52  0.881356         1.332246         2.667754\n",
      "53  0.898305         1.282236         2.717764\n",
      "54  0.915254         1.232101         2.767899\n",
      "55  0.932203         1.181863         2.818137\n",
      "56  0.949153         1.131542         2.868458\n",
      "57  0.966102         1.081150         2.918850\n",
      "58  0.983051         1.030698         2.969302\n",
      "59  1.000000         0.980196         3.019804\n"
     ]
    }
   ],
   "source": [
    "from  matplotlib import pyplot as plt\n",
    "import numpy as np\n",
    "\n",
    "n = 60\n",
    "lmbd = np.linspace(0.0,1.0,n)   # range for lambda and taking n values within this range\n",
    "\n",
    "def E(lmbd):                                         # E(lmbd) is the plus part (+) of the above equation\n",
    "   return 2 + np.sqrt(9.04*lmbd*lmbd - 12*lmbd + 4)\n",
    "\n",
    "def E1(lmbd):                                        # E1(lmbd) is the minus part (-) of the above equation\n",
    "   return 2 - np.sqrt(9.04*lmbd*lmbd - 12*lmbd + 4)\n",
    "\n",
    "plt.plot(lmbd, E(lmbd) ,'b-',lmbd, E1(lmbd),'r-',)\n",
    "plt.xlabel('$\\lambda$')\n",
    "plt.ylabel('Eigenvalues')\n",
    "plt.show()\n",
    "print('-----------------------------------------------------------')\n",
    "print('-----------------------------------------------------------')\n",
    "import pandas as pd\n",
    "from pandas import DataFrame\n",
    "data ={'Lambda':lmbd, 'Eigenvalues [0]':E1(lmbd),'Eigenvalues [1]':E(lmbd),}\n",
    "frame = pd.DataFrame(data)\n",
    "print(frame)"
   ]
  },
  {
   "cell_type": "markdown",
   "id": "457f70d0-585c-459f-a1da-d932a48823ae",
   "metadata": {},
   "source": [
    "<span style=\"color:red\">Comment:</span> When we increase $\\lambda$, the eigenvalues are influenced by interaction (perturbed). In the case for the qubit $|0\\rangle$ the eigenvalues also increase, but for the qubit $|1\\rangle$ decrease. The breaking point is when $\\lambda$ is equal to $0.67$, there the interaction reach the maximal point."
   ]
  },
  {
   "cell_type": "code",
   "execution_count": null,
   "id": "f7d0b4bd-65aa-425d-8a98-559711140ddb",
   "metadata": {},
   "outputs": [],
   "source": []
  }
 ],
 "metadata": {
  "kernelspec": {
   "display_name": "Python 3 (ipykernel)",
   "language": "python",
   "name": "python3"
  },
  "language_info": {
   "codemirror_mode": {
    "name": "ipython",
    "version": 3
   },
   "file_extension": ".py",
   "mimetype": "text/x-python",
   "name": "python",
   "nbconvert_exporter": "python",
   "pygments_lexer": "ipython3",
   "version": "3.10.12"
  }
 },
 "nbformat": 4,
 "nbformat_minor": 5
}
