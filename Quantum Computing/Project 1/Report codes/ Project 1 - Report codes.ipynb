{
 "cells": [
  {
   "cell_type": "markdown",
   "id": "0d449316-e543-4e44-be2f-1c0067119b66",
   "metadata": {},
   "source": [
    "# <center>Quantum Computing and Quantum Machine Learning - Project 1<center>"
   ]
  },
  {
   "cell_type": "markdown",
   "id": "94775719-e47b-4433-aa70-52e3a78f74a9",
   "metadata": {},
   "source": [
    "# <center> Codes <center>"
   ]
  },
  {
   "cell_type": "markdown",
   "id": "7166d50f-9db7-4966-b4e1-d1983cdd6aff",
   "metadata": {},
   "source": [
    "In this report we include some created programs in explicit way and results for each question."
   ]
  },
  {
   "cell_type": "markdown",
   "id": "a77d95d7-b5a9-4d22-9589-aa0b57ff0434",
   "metadata": {},
   "source": [
    "# Part a)\n",
    "Define also Bell states and write a code where you implement a Hadamard gate and thereafter a CNOT gate on one of the Bell states of your choice. Perform thereafter a measurement on the first qubit and thereafter on the second qubit."
   ]
  },
  {
   "cell_type": "code",
   "execution_count": 1,
   "id": "9aba371a-98ce-4ea4-b739-32bebb6497ad",
   "metadata": {},
   "outputs": [
    {
     "name": "stdout",
     "output_type": "stream",
     "text": [
      "\u001b[31m---------------------------------------------------------------\u001b[30m\n",
      "\u001b[31m---------------------------------------------------------------\u001b[30m\n",
      "Counter:\n",
      "Qubit Zero (0) = 5036 , Qubit One (1) = 4964\n",
      "\u001b[31m---------------------------------------------------------------\u001b[30m\n",
      "\u001b[31m---------------------------------------------------------------\u001b[30m\n",
      "Probability to get state zero = [[0.5]]\n",
      "---------------------------------------------------------------\n",
      "---------------------------------------------------------------\n",
      "Probability to get state one = [[0.5]]\n",
      "---------------------------------------------------------------\n",
      "---------------------------------------------------------------\n"
     ]
    }
   ],
   "source": [
    "from colorama import Fore, Back, Style\n",
    "import numpy as np\n",
    "\n",
    "# Hardamard gate\n",
    "H = np.sqrt(0.5)*np.array([[1,1],\n",
    "                           [1,-1]])\n",
    "\n",
    "# Computational basis\n",
    "statezero = np.array([[1],[0]])\n",
    "stateone = np.array([[0],[1]]) \n",
    "\n",
    "# CNOT gate\n",
    "CNOT = np.array([[1,0,0,0],\n",
    "                 [0,1,0,0],\n",
    "                 [0,0,0,1],\n",
    "                 [0,0,1,0]])\n",
    "\n",
    "# Probabilities\n",
    "P0 = (np.sqrt(0.5)*(np.kron(statezero, statezero).T + np.kron(stateone, stateone).T)@(np.kron(statezero, statezero)))**2  # Probability to get state zero\n",
    "P1 = (np.sqrt(0.5)*(np.kron(statezero, statezero).T + np.kron(stateone, stateone).T)@(np.kron(stateone, stateone)))**2    # Probability to get state one\n",
    "                                                                              # np.kron() means tensor product between matrices\n",
    "n = 10000\n",
    "x = np.random.uniform(0,1,n)  # generate ramdom number in this interval\n",
    "def num(x):\n",
    "\tif x <= P0:\n",
    "\t\treturn True\n",
    "\telse:\n",
    "\t\treturn False\n",
    "        \n",
    "inside_count = 0\n",
    "for i in range(n):\n",
    "\tif num(x[i]):\n",
    "\t\tinside_count += 1  # count the cases for qubit 0\n",
    "\n",
    "h = n - inside_count       # count the cases for qubit 1\n",
    "\n",
    "print(f\"{Fore.RED}---------------------------------------------------------------{Fore.BLACK}\")\n",
    "print(f\"{Fore.RED}---------------------------------------------------------------{Fore.BLACK}\")\n",
    "print(\"Counter:\")\n",
    "print(\"Qubit Zero (0) =\",inside_count,\",\", \"Qubit One (1) =\", h)\n",
    "print(f\"{Fore.RED}---------------------------------------------------------------{Fore.BLACK}\")\n",
    "print(f\"{Fore.RED}---------------------------------------------------------------{Fore.BLACK}\")\n",
    "print('Probability to get state zero =',P0)\n",
    "print(\"---------------------------------------------------------------\")\n",
    "print(\"---------------------------------------------------------------\")\n",
    "print('Probability to get state one =',P1)\n",
    "print(\"---------------------------------------------------------------\")\n",
    "print(\"---------------------------------------------------------------\")"
   ]
  },
  {
   "cell_type": "markdown",
   "id": "f292741a-748b-438e-9626-e150876169c1",
   "metadata": {},
   "source": [
    "# Part c)\n",
    "Implement now the variational quantum eigensolver (VQE) for the above Hamiltonian and set up the circuit(s) which is(are) needed in order to find the eigenvalues of this system. Discuss the results and compare these with those from part b). Feel free to use either **Qiskit** or your own code (based on the setup from part a)) or both approaches. Discuss your results."
   ]
  },
  {
   "cell_type": "code",
   "execution_count": 2,
   "id": "adbe551b-e281-4ad6-b045-4d2e841f235d",
   "metadata": {},
   "outputs": [
    {
     "data": {
      "image/png": "[encoded data removed]",
      "text/plain": [
       "<Figure size 269.064x117.056 with 1 Axes>"
      ]
     },
     "execution_count": 2,
     "metadata": {},
     "output_type": "execute_result"
    }
   ],
   "source": [
    "from qiskit import QuantumCircuit\n",
    "from qiskit.circuit import Parameter\n",
    "import numpy as np\n",
    "\n",
    "params = [Parameter(\"theta\"), Parameter(\"phi\")]  # Parameters \n",
    "\n",
    "def circuit(params):\n",
    "    qr = QuantumCircuit(1)\n",
    "    qr.rx(params[0],0)      # Rx gate\n",
    "    qr.ry(params[1],0)      # Ry gate\n",
    "    return qr\n",
    "    \n",
    "qc = circuit(params)\n",
    "qc.draw(output=\"mpl\")"
   ]
  },
  {
   "cell_type": "code",
   "execution_count": 3,
   "id": "a0eea9f0-7758-4eed-8685-2c4053954e5b",
   "metadata": {},
   "outputs": [],
   "source": [
    "from  matplotlib import pyplot as plt\n",
    "import numpy as np\n",
    "from qiskit.circuit import Parameter\n",
    "from math import sqrt\n",
    "import warnings\n",
    "warnings.simplefilter(action = \"ignore\", category = RuntimeWarning)\n",
    "\n",
    "# Pauli matrix and identity matrix\n",
    "I = np.array([[1,0],\n",
    "              [0,1]])\n",
    "X = np.array([[0,1],\n",
    "              [1,0]])\n",
    "Y = np.array([[0,-1j],\n",
    "              [1j,0]])\n",
    "Z = np.array([[1,0],\n",
    "              [0,-1]])\n",
    "\n",
    "# Computational basis\n",
    "statezero = np.array([1,0])\n",
    "\n",
    "# Hamiltonian rewrite in Pauli matrices terms\n",
    "H = 2*I + Z + 0.2*X\n",
    "\n",
    "params = [Parameter(\"theta\"), Parameter(\"phi\")]\n",
    "\n",
    "# product of the rotationals Ry(phi)@Rx(theta)\n",
    "def RyRx(params):\n",
    "    return (np.cos(params[1]*0.5)*I - 1j*np.sin(params[1]*0.5)*Y)@(np.cos(params[0]*0.5)*I - 1j*np.sin(params[0]*0.5)*X)\n",
    "\n",
    "# Energy (expectation value)\n",
    "def Energy(params):\n",
    "    psi = RyRx(params) @ statezero\n",
    "    energy = psi.conj().T @ H @ psi\n",
    "    return energy"
   ]
  },
  {
   "cell_type": "markdown",
   "id": "be8a3c66-6b6f-4196-be41-f85056c73858",
   "metadata": {},
   "source": [
    "Now we optimize the parameters and minimize the energy. \\\n",
    "Powell method minimize a function using bidirectional search. It's a combination between the Gauss–Newton algorithm and gradient descent, but using an explicit trust region. \\\n",
    "Optimization is an iterative method, it ensures precision and stability to reach the ground state energy."
   ]
  },
  {
   "cell_type": "code",
   "execution_count": 4,
   "id": "48c31a7b-e7ce-4dad-9b18-ef18b007a5d2",
   "metadata": {},
   "outputs": [
    {
     "name": "stdout",
     "output_type": "stream",
     "text": [
      "Value of theta =  (3.1415926540653554+2.730739999451436e-10j)\n",
      "------------------------------------\n",
      "------------------------------------\n",
      "Value of phi =  (0.19739555991870283+1.841792228821129e-21j)\n",
      "------------------------------------\n",
      "------------------------------------\n",
      "Energy = (0.9801960972814429-2.2858221656743107e-27j)\n"
     ]
    }
   ],
   "source": [
    "import scipy.optimize as optimize\n",
    "\n",
    "initial = np.random.rand(2)      # number of parameters for optimize\n",
    "result = optimize.minimize(Energy, initial, method='Powell',tol=1e-12)   # minimization of the energy        \n",
    "\n",
    "print(\"Value of theta = \",result.x[0])  # optimal value for thetha\n",
    "print(\"------------------------------------\")\n",
    "print(\"------------------------------------\")\n",
    "print(\"Value of phi = \",result.x[1])    # optimal value for phi\n",
    "print(\"------------------------------------\")\n",
    "print(\"------------------------------------\")\n",
    "print(\"Energy =\",result.fun)"
   ]
  },
  {
   "cell_type": "markdown",
   "id": "511ec14e-9690-4f9c-a115-3dbff0039a55",
   "metadata": {},
   "source": [
    "# Part e)\n",
    "Compute now the eigenvalues of this system using the VQE method and set up the circuits needed to find the lowest state. Compare these\n",
    "results with those from the previous part. Feel free again to either use your own code for the circuit and your VQE code or use the\n",
    "functionality of [Qiskit](https://qiskit.org/), or both."
   ]
  },
  {
   "cell_type": "code",
   "execution_count": 5,
   "id": "25868556-b486-433e-a435-3a4b6b2cba41",
   "metadata": {},
   "outputs": [
    {
     "data": {
      "image/png": "[encoded data removed]",
      "text/plain": [
       "<Figure size 370.906x200.667 with 1 Axes>"
      ]
     },
     "execution_count": 5,
     "metadata": {},
     "output_type": "execute_result"
    }
   ],
   "source": [
    "from qiskit import QuantumCircuit\n",
    "from qiskit.circuit import Parameter\n",
    "import numpy as np\n",
    "\n",
    "params = [Parameter(\"theta1\"), Parameter(\"phi1\"), Parameter(\"theta2\"), Parameter(\"phi2\")]\n",
    "def circuit(params):\n",
    "    qr = QuantumCircuit(2)\n",
    "    qr.rx(params[0],0)        # rotational x for the first qubit\n",
    "    qr.ry(params[1],0)        # rotational y for the first qubit\n",
    "    qr.rx(params[2],1)        # rotational x for the second qubit\n",
    "    qr.ry(params[3],1)        # rotational y for the second qubit\n",
    "    qr.cx(0, 1)               # CNOT gate\n",
    "    return qr\n",
    "qc = circuit(params)\n",
    "qc.draw(output=\"mpl\")"
   ]
  },
  {
   "cell_type": "markdown",
   "id": "015f92c2-ce34-4693-93e7-514dfdc124a7",
   "metadata": {},
   "source": [
    "Now we rewrite the hamiltonian in terms of Pauli matrices. "
   ]
  },
  {
   "cell_type": "code",
   "execution_count": 6,
   "id": "887a5d9a-e7a7-45ba-8535-b4dc93065f98",
   "metadata": {},
   "outputs": [],
   "source": [
    "from qiskit.circuit import Parameter\n",
    "import numpy as np\n",
    "import warnings\n",
    "warnings.simplefilter(action = \"ignore\", category = RuntimeWarning)\n",
    "\n",
    "# Pauli matrix and identity matrix\n",
    "I = np.array([[1,0],\n",
    "              [0,1]])\n",
    "X = np.array([[0,1],\n",
    "              [1,0]])\n",
    "Y = np.array([[0,-1j],\n",
    "              [1j,0]])\n",
    "Z = np.array([[1,0],\n",
    "              [0,-1]])\n",
    "# CNOT gate\n",
    "CNOT = np.array([[1,0,0,0],\n",
    "                 [0,1,0,0],\n",
    "                 [0,0,0,1],\n",
    "                 [0,0,1,0]])\n",
    "# Hamiltonian non-interacting\n",
    "E00 = 0.0\n",
    "E10 = 2.5\n",
    "E01 = 6.5\n",
    "E11 = 7.0\n",
    "alpha = (E00 + E10 + E01 + E11)/4\n",
    "betha = (E00 + E10 - E01 - E11)/4\n",
    "gamma = (E00 - E10 + E01 - E11)/4\n",
    "delta = (E00 - E10 - E01 + E11)/4\n",
    "\n",
    "H0 = np.array([[E00,0,0,0],\n",
    "               [0,E10,0,0],\n",
    "               [0,0,E01,0],\n",
    "               [0,0,0,E11]])\n",
    "\n",
    "# Hamiltonian interacting\n",
    "Hx = 2.0\n",
    "Hz = 3.0\n",
    "H1 = Hx*np.kron(X,X) + Hz*np.kron(Z,Z) # Matrix 4x4\n",
    "\n",
    "# Total hamiltonian\n",
    "H = alpha*np.kron(I,I) + betha*np.kron(I,Z) + gamma*np.kron(Z,I) + (delta + Hz)*np.kron(Z,Z) + Hx*np.kron(X,X) # Matrix 4x4\n",
    "\n",
    "# Computational base\n",
    "statezero = np.array([1,0])\n",
    "\n",
    "\n",
    "params = [Parameter(\"theta1\"), Parameter(\"phi1\"), Parameter(\"theta2\"), Parameter(\"phi2\")]\n",
    "# product of the rotationals Ry(phi)@Rx(theta)\n",
    "def Ry1Rx1(params):                           # podruct of rotational for the firts qubit\n",
    "    return (np.cos(params[1]*0.5)*I-1j*np.sin(params[1]*0.5)*Y)@(np.cos(params[0]*0.5)*I-1j*np.sin(params[0]*0.5)*X)\n",
    "\n",
    "def Ry2Rx2(params):                           # podruct of rotational for the second qubit\n",
    "    return (np.cos(params[3]*0.5)*I-1j*np.sin(params[3]*0.5)*Y)@(np.cos(params[2]*0.5)*I-1j*np.sin(params[2]*0.5)*X)\n",
    "\n",
    "# Energy (expectation value)\n",
    "def Energy(params):\n",
    "    psi = CNOT @ np.kron(Ry1Rx1(params) @ statezero, Ry2Rx2(params) @ statezero)\n",
    "    energy = psi.conj().T @ H @ psi\n",
    "    return energy"
   ]
  },
  {
   "cell_type": "markdown",
   "id": "dd6caecc-b251-4c32-a4f0-9036bc14a59d",
   "metadata": {},
   "source": [
    "Let's apply again the optimize and minimize"
   ]
  },
  {
   "cell_type": "code",
   "execution_count": 7,
   "id": "fffff4e2-2f36-4a40-a837-6d7f8b2c4d44",
   "metadata": {},
   "outputs": [
    {
     "name": "stdout",
     "output_type": "stream",
     "text": [
      "Value of theta1 =  (3.141592647936002-3.5107994010204767e-09j)\n",
      "------------------------------------\n",
      "------------------------------------\n",
      "Value of phi1 =  (0.7853981646384572+1.2883721236722916e-09j)\n",
      "------------------------------------\n",
      "------------------------------------\n",
      "Value of theta2 =  (3.1415926535650205+1.2835626554913538e-11j)\n",
      "------------------------------------\n",
      "------------------------------------\n",
      "Value of phi2 =  (1.015327637814761e-11+3.1978440584760626e-11j)\n",
      "------------------------------------\n",
      "------------------------------------\n",
      "Energy = (-1.3284271247461903-5.921653995853435e-25j)\n"
     ]
    }
   ],
   "source": [
    "import scipy.optimize as optimize\n",
    "\n",
    "initial = np.random.rand(4)    # number of parameters\n",
    "result = optimize.minimize(Energy, initial, method='Powell',tol=1e-12)\n",
    "\n",
    "print(\"Value of theta1 = \",result.x[0])          # optimal value for thetha1\n",
    "print(\"------------------------------------\")\n",
    "print(\"------------------------------------\")\n",
    "print(\"Value of phi1 = \",result.x[1])            # optimal value for phi1\n",
    "print(\"------------------------------------\")\n",
    "print(\"------------------------------------\")\n",
    "print(\"Value of theta2 = \",result.x[2])          # optimal value for thetha2\n",
    "print(\"------------------------------------\")\n",
    "print(\"------------------------------------\")\n",
    "print(\"Value of phi2 = \",result.x[3])            # optimal value for phi2\n",
    "print(\"------------------------------------\")\n",
    "print(\"------------------------------------\")\n",
    "print(\"Energy =\",result.fun)"
   ]
  },
  {
   "cell_type": "markdown",
   "id": "e8844a2d-81e8-4bba-bb62-9d59fefb4fcd",
   "metadata": {},
   "source": [
    "# Part g)\n",
    "Use now the VQE method to find the same eigenvalues as in part f) and set up the circuits and simulations which are needed. Compare your\n",
    "results with those from part f) and comment your results."
   ]
  },
  {
   "cell_type": "markdown",
   "id": "dc765573-6538-4df5-a47a-b7c8a1171e5e",
   "metadata": {},
   "source": [
    "## **Code for $J = 1$ and $N = 2$**"
   ]
  },
  {
   "cell_type": "code",
   "execution_count": 8,
   "id": "a5f0549a-a29c-4610-a260-3c59ac8ba88b",
   "metadata": {},
   "outputs": [
    {
     "data": {
      "image/png": "[encoded data removed]",
      "text/plain": [
       "<Figure size 287.294x200.667 with 1 Axes>"
      ]
     },
     "execution_count": 8,
     "metadata": {},
     "output_type": "execute_result"
    }
   ],
   "source": [
    "from qiskit import QuantumCircuit\n",
    "from qiskit.circuit import Parameter\n",
    "import numpy as np\n",
    "\n",
    "params = [Parameter(\"theta\")]\n",
    "def circuit(params):\n",
    "    qr = QuantumCircuit(2)\n",
    "    qr.ry(2*params[0],0)\n",
    "    qr.cx(0, 1)\n",
    "    return qr\n",
    "qc = circuit(params)\n",
    "qc.draw(output=\"mpl\")"
   ]
  },
  {
   "cell_type": "code",
   "execution_count": 9,
   "id": "4f1137db-81f6-43a8-a239-cb563b79d33d",
   "metadata": {},
   "outputs": [],
   "source": [
    "from  matplotlib import pyplot as plt\n",
    "import numpy as np\n",
    "from qiskit.circuit import Parameter\n",
    "import warnings\n",
    "warnings.simplefilter(action = \"ignore\", category = RuntimeWarning)\n",
    "\n",
    "# Pauli matrix and identity matrix\n",
    "I = np.array([[1,0],\n",
    "              [0,1]])\n",
    "X = np.array([[0,1],\n",
    "              [1,0]])\n",
    "Y = np.array([[0,-1j],\n",
    "              [1j,0]])\n",
    "Z = np.array([[1,0],\n",
    "              [0,-1]])\n",
    "# CNOT gate\n",
    "CNOT = np.array([[1,0,0,0],\n",
    "                 [0,1,0,0],\n",
    "                 [0,0,0,1],\n",
    "                 [0,0,1,0]])\n",
    "\n",
    "# Computational base\n",
    "statezero = np.array([1,0])\n",
    "\n",
    "# Hamiltonian written in Pauli matrices terms\n",
    "E = 0.5\n",
    "V = 1.0\n",
    "H =  E*0.5*(np.kron(Z, I) + np.kron(I, Z)) - V*0.5*(np.kron(X, X) - np.kron(Y,Y))\n",
    "\n",
    "params = [Parameter(\"theta\")]\n",
    "\n",
    "# product of the rotationals Ry(phi)@Rx(theta)\n",
    "def Ry(params):\n",
    "    return np.cos(2*params[0] - np.pi)*I - 1j*np.sin(2*params[0] - np.pi)*Y\n",
    "\n",
    "# Energy \n",
    "def Energy(params):\n",
    "    psi = CNOT @ np.kron(Ry(params) @ statezero, statezero)\n",
    "    energy = psi.conj().T @ H @ psi\n",
    "    return energy"
   ]
  },
  {
   "cell_type": "code",
   "execution_count": 10,
   "id": "b533ff9f-fd5b-47a6-8037-52eaec1a9753",
   "metadata": {},
   "outputs": [
    {
     "name": "stdout",
     "output_type": "stream",
     "text": [
      "Value of theta =  (0.5086109767327969+0j)\n",
      "------------------------------------\n",
      "------------------------------------\n",
      "------------------------------------\n",
      "------------------------------------\n",
      "Energy = (-1.1180339887498942+0j)\n"
     ]
    }
   ],
   "source": [
    "import scipy.optimize as optimize\n",
    "\n",
    "initial = np.random.rand(1)\n",
    "result = optimize.minimize(Energy, initial)\n",
    "\n",
    "print(\"Value of theta = \",result.x[0])\n",
    "print(\"------------------------------------\")\n",
    "print(\"------------------------------------\")\n",
    "#print(\"Value of phi = \",result.x[1])\n",
    "print(\"------------------------------------\")\n",
    "print(\"------------------------------------\")\n",
    "print(\"Energy =\",result.fun)"
   ]
  },
  {
   "cell_type": "code",
   "execution_count": null,
   "id": "670195d7-0255-4334-aa23-d7c472bda54d",
   "metadata": {},
   "outputs": [],
   "source": [
    "from qiskit import QuantumCircuit\n",
    "from qiskit.circuit import Parameter\n",
    "import numpy as np\n",
    "\n",
    "params = [Parameter(\"theta1\"), Parameter(\"phi1\"), Parameter(\"theta2\"), Parameter(\"phi2\"), Parameter(\"theta3\"), Parameter(\"phi3\"), Parameter(\"theta4\"), Parameter(\"phi4\")]\n",
    "def circuit(params):\n",
    "    qr = QuantumCircuit(4)\n",
    "    qr.rx(params[0],0)        # rotational x for the first qubit\n",
    "    qr.ry(params[1],0)        # rotational y for the first qubit\n",
    "    qr.rx(params[2],1)        # rotational x for the second qubit\n",
    "    qr.ry(params[3],1)        # rotational y for the second qubit\n",
    "    qr.cx(0, 1)               # CNOT gate\n",
    "    qr.rx(params[4],2)        # rotational x for the first qubit\n",
    "    qr.ry(params[5],2)        # rotational y for the first qubit\n",
    "    qr.cx(1, 2)               # CNOT gate\n",
    "    qr.rx(params[6],3)        # rotational x for the first qubit\n",
    "    qr.ry(params[7],3)        # rotational y for the first qubit\n",
    "    qr.cx(2, 3)               # CNOT gate\n",
    "    return qr\n",
    "qc = circuit(params)\n",
    "qc.draw(output=\"mpl\")"
   ]
  },
  {
   "cell_type": "code",
   "execution_count": null,
   "id": "0c63aa91-b282-4a58-92ce-7de4955f5898",
   "metadata": {},
   "outputs": [],
   "source": []
  }
 ],
 "metadata": {
  "kernelspec": {
   "display_name": "Python 3 (ipykernel)",
   "language": "python",
   "name": "python3"
  },
  "language_info": {
   "codemirror_mode": {
    "name": "ipython",
    "version": 3
   },
   "file_extension": ".py",
   "mimetype": "text/x-python",
   "name": "python",
   "nbconvert_exporter": "python",
   "pygments_lexer": "ipython3",
   "version": "3.10.12"
  }
 },
 "nbformat": 4,
 "nbformat_minor": 5
}
