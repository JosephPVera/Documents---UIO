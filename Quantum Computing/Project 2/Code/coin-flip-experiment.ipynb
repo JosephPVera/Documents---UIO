{
 "cells": [
  {
   "cell_type": "markdown",
   "metadata": {},
   "source": [
    "# Code taken from https://github.com/prabh27/Quantum-Boltzmann-Machines/tree/main. Herein We only made updates of the classes, since they are deprecated."
   ]
  },
  {
   "cell_type": "markdown",
   "metadata": {},
   "source": [
    "Solution to pyquil https://stackoverflow.com/questions/61875869/ubuntu-20-04-upgrade-python-missing-libffi-so-6/63329830#63329830"
   ]
  },
  {
   "cell_type": "markdown",
   "metadata": {},
   "source": [
    "It also check the manual https://pyquil-docs.rigetti.com/_/downloads/en/v2.9.1/pdf/ for install Quantum Virtual Machine (QVM). For connect to servidor QVM: qvm -S."
   ]
  },
  {
   "cell_type": "markdown",
   "metadata": {},
   "source": [
    "This notebook works together with qRBM_final.py script. You can find it in https://github.com/prabh27/Quantum-Boltzmann-Machines/blob/main/qRBM_final.py"
   ]
  },
  {
   "cell_type": "markdown",
   "metadata": {},
   "source": [
    "# Coin Flip Experiment"
   ]
  },
  {
   "cell_type": "code",
   "execution_count": 2,
   "metadata": {
    "scrolled": true
   },
   "outputs": [],
   "source": [
    "from pyquil import Program                       # https://pyquil-docs.rigetti.com/en/stable/#\n",
    "\n",
    "from qRBM_final import qRBM\n",
    "\n",
    "from pyquil.gates import *\n",
    "from random import *\n",
    "import numpy as np\n",
    "from sklearn import svm                          # https://scikit-learn.org/stable/modules/svm.html\n",
    "from sklearn.neural_network import BernoulliRBM  # https://scikit-learn.org/stable/api/sklearn.neural_network.html\n",
    "from matplotlib import pyplot as plt\n",
    "\n",
    "from pyquil.api import WavefunctionSimulator     # https://pyquil-docs.rigetti.com/en/stable/wavefunction_simulator.html"
   ]
  },
  {
   "cell_type": "markdown",
   "metadata": {},
   "source": [
    "## Creating the underlying distribution\n",
    "Generate a sequence, this will be the underlying hidden distribution of our data."
   ]
  },
  {
   "cell_type": "code",
   "execution_count": 3,
   "metadata": {},
   "outputs": [
    {
     "data": {
      "text/plain": [
       "array([1, 1, 0, 1, 0, 0, 0, 1, 1, 1, 1, 1, 0, 0, 1, 0, 0, 0, 0, 0])"
      ]
     },
     "execution_count": 3,
     "metadata": {},
     "output_type": "execute_result"
    }
   ],
   "source": [
    "#flip a coin\n",
    "np.random.seed(1234)\n",
    "random_coin = np.random.choice([0,1], size=20, replace=True)\n",
    "random_coin"
   ]
  },
  {
   "cell_type": "markdown",
   "metadata": {},
   "source": [
    "The probabilities of our data will be parsed in a quantum circuit (Bell state)"
   ]
  },
  {
   "cell_type": "code",
   "execution_count": 4,
   "metadata": {},
   "outputs": [
    {
     "data": {
      "image/png": "[encoded data removed]",
      "text/plain": [
       "<IPython.core.display.Image object>"
      ]
     },
     "execution_count": 4,
     "metadata": {},
     "output_type": "execute_result"
    }
   ],
   "source": [
    "from pyquil.latex import display\n",
    "from pyquil import Program\n",
    "from pyquil.gates import H\n",
    "\n",
    "qvm = WavefunctionSimulator()  # https://pyquil-docs.rigetti.com/en/stable/wavefunction_simulator.html\n",
    "p = Program()\n",
    "p.inst(H(0), CNOT(0, 1))       # circuit \n",
    "\n",
    "r = qRBM(qvm, num_visible=4, num_hidden=1, n_quantum_measurements=None, verbose=True)\n",
    "display(p)"
   ]
  },
  {
   "cell_type": "markdown",
   "metadata": {},
   "source": [
    "## Generating encoded sequences\n",
    "That information will be encoded within a set of four numbers, for example 0 will be represented as (1,1,-1,-1), while\n",
    "1 as (-1,-1,1,1). This will create artificial data where we will hide information that the QRBM algorithm must decode"
   ]
  },
  {
   "cell_type": "code",
   "execution_count": 5,
   "metadata": {},
   "outputs": [
    {
     "data": {
      "text/plain": [
       "array([[-1, -1,  1,  1],\n",
       "       [-1, -1,  1,  1],\n",
       "       [ 1,  1, -1, -1],\n",
       "       [-1, -1,  1,  1],\n",
       "       [ 1,  1, -1, -1],\n",
       "       [ 1,  1, -1, -1],\n",
       "       [ 1,  1, -1, -1],\n",
       "       [-1, -1,  1,  1],\n",
       "       [-1, -1,  1,  1],\n",
       "       [-1, -1,  1,  1],\n",
       "       [-1, -1,  1,  1],\n",
       "       [-1, -1,  1,  1],\n",
       "       [ 1,  1, -1, -1],\n",
       "       [ 1,  1, -1, -1],\n",
       "       [-1, -1,  1,  1],\n",
       "       [ 1,  1, -1, -1],\n",
       "       [ 1,  1, -1, -1],\n",
       "       [ 1,  1, -1, -1],\n",
       "       [ 1,  1, -1, -1],\n",
       "       [ 1,  1, -1, -1]])"
      ]
     },
     "execution_count": 5,
     "metadata": {},
     "output_type": "execute_result"
    }
   ],
   "source": [
    "# Encode this coin flip into an artifically high dimensional dataset\n",
    "artificial_data = []\n",
    "for flip in random_coin:\n",
    "    if flip == 1:\n",
    "        artificial_data.append([-1,-1,1,1]) #logical 1\n",
    "    else:\n",
    "        artificial_data.append([1,1,-1,-1]) #logical 0\n",
    "\n",
    "# We know have an artificially high dimensional dataset \n",
    "artificial_data = np.asarray(artificial_data)\n",
    "artificial_data"
   ]
  },
  {
   "cell_type": "markdown",
   "metadata": {},
   "source": [
    "## Creating and training our QRBM"
   ]
  },
  {
   "cell_type": "code",
   "execution_count": 6,
   "metadata": {},
   "outputs": [],
   "source": [
    "# We will now setup our QRBM to try and understand the artifical data's underlying distribution\n",
    "\n",
    "# we will use \"analytical\" measurement to save time on simulation.\n",
    "qr = qRBM(qvm, num_visible=4, num_hidden=1,n_quantum_measurements=None)"
   ]
  },
  {
   "cell_type": "code",
   "execution_count": 7,
   "metadata": {},
   "outputs": [],
   "source": [
    "%%capture\n",
    "# let it train...\n",
    "qr.train(artificial_data,n_epochs=51)     # Herein the n_epochs by default is 100"
   ]
  },
  {
   "cell_type": "markdown",
   "metadata": {},
   "source": [
    "## Comparing QRBM decoded data to originally encoded data\n",
    "In the following code snippet we examine the hidden variables probabilities and how they correspond to the initial information from the coin flip. As we can note that the model is able to predict either 0 or 1."
   ]
  },
  {
   "cell_type": "code",
   "execution_count": 8,
   "metadata": {},
   "outputs": [
    {
     "name": "stdout",
     "output_type": "stream",
     "text": [
      "QRBM Pr. | Original Coin Value\n",
      "------------------------------\n",
      " 0.000  |  1.000\n",
      " 0.000  |  1.000\n",
      " 1.000  |  0.000\n",
      " 0.000  |  1.000\n",
      " 1.000  |  0.000\n",
      " 1.000  |  0.000\n",
      " 1.000  |  0.000\n",
      " 0.000  |  1.000\n",
      " 0.000  |  1.000\n",
      " 0.000  |  1.000\n",
      " 0.000  |  1.000\n",
      " 0.000  |  1.000\n",
      " 1.000  |  0.000\n",
      " 1.000  |  0.000\n",
      " 0.000  |  1.000\n",
      " 1.000  |  0.000\n",
      " 1.000  |  0.000\n",
      " 1.000  |  0.000\n",
      " 1.000  |  0.000\n",
      " 1.000  |  0.000\n"
     ]
    }
   ],
   "source": [
    "# we can transform our data to the hidden layer\n",
    "transformed = qr.transform(artificial_data)\n",
    "\n",
    "comparison = np.stack((transformed[:,0], random_coin))\n",
    "\n",
    "#compare our rbm probabilities with the coin flips.\n",
    "print ('QRBM Pr. | Original Coin Value')\n",
    "print ('-'*30)\n",
    "for i in range(len(transformed)):\n",
    "    print ('{: 0.3f}'.format(float(comparison[:,i][0])), ' |', '{: 0.3f}'.format(comparison[:,i][1]))\n"
   ]
  },
  {
   "cell_type": "code",
   "execution_count": null,
   "metadata": {},
   "outputs": [],
   "source": []
  }
 ],
 "metadata": {
  "kernelspec": {
   "display_name": "Python 3 (ipykernel)",
   "language": "python",
   "name": "python3"
  },
  "language_info": {
   "codemirror_mode": {
    "name": "ipython",
    "version": 3
   },
   "file_extension": ".py",
   "mimetype": "text/x-python",
   "name": "python",
   "nbconvert_exporter": "python",
   "pygments_lexer": "ipython3",
   "version": "3.10.12"
  }
 },
 "nbformat": 4,
 "nbformat_minor": 4
}
